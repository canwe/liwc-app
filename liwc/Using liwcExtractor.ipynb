{
 "metadata": {
  "name": "",
  "signature": "sha256:c3ae7de5ab85ff38ad65db73fe0f17d2602c5ba79f5d92296cef9b2262e08ec1"
 },
 "nbformat": 3,
 "nbformat_minor": 0,
 "worksheets": [
  {
   "cells": [
    {
     "cell_type": "markdown",
     "metadata": {},
     "source": [
      "# Using the LIWC extractor\n",
      "To use this module you need to own a copy of LIWC.  If you do not own a copy, you can purchase one from [LIWC.net](http://www.liwc.net)\n",
      "\n",
      "Before you begin, you need to locate the LIWC2007_English_plus_txt.dic from the LIWC software.  To do this, you may have to install LIWC after obtaining a license from the LIWC website.\n",
      "\n",
      "After obtaining a copy of LIWC2007_English_plus_txt.dic you can put it in the directory where the liwcExtractor module exists and use the following code to import liwcExtractor\n",
      "<code>\n",
      "import liwcExtractor as le\n",
      "liwc = le.liwcExtractor()\n",
      "</code>\n",
      "\n",
      "or you can point to LIWC2007_English_plus_txt.dic in its current directory by using the following code\n",
      "\n",
      "<code>\n",
      "import liwcExtras as le\n",
      "path_to_liwc = \"~/path/to/liwc/LIWC2007_English_plus_txt.dic\"\n",
      "liwc = le.liwcExtractor(liwcPath=path_to_liwc)\n",
      "</code>\n",
      "\n",
      "There are two main methods in liwcExtractor\n",
      "1. extractFromDoc()\n",
      "2. extract()\n",
      "\n",
      "Each of these will return a long array containing liwc features which relate to different categories.  In the interest of being efficient with data structures, you will need to use the getCategoryIndeces() method for a full list of how the indeces in the array relate various liwc categories.\n",
      "\n",
      "For example, you might have the following corpus...\n",
      "<code>\n",
      "doc1 = \"This is the first document that I am going to test with liwcExtractor\"\n",
      "doc2 = \"The second one might have some werrrrrrrdddd things in it. ;-)\"\n",
      "doc3 = \"The third one.....asdf;lkj;alskjdf;lkjasfd, who even knows. The third makes me want to cry!\"\n",
      "corpus = [doc1, doc2, doc3]\n",
      "</code>\n",
      "\n",
      "you use this code on the third one\n",
      "<code>\n",
      "features = liwc.extractFromDoc(doc3)\n",
      "</code>\n",
      "and get...\n",
      "<code>\n",
      "[0, 1, 1, 3, 1, ...]\n",
      "</code>\n",
      "\n",
      "To understand which categories these are you can do the following\n",
      "<code>\n",
      "categories = liwc.getCategoryIndeces()\n",
      "</code>\n",
      "\n",
      "the <code>categories</code> variable is a list just like <code>features</code> which looks like this...\n",
      "<code>\n",
      "['ingest', 'cause', 'insight', 'cogmech', 'sad', ...]\n",
      "</code>\n",
      "\n",
      "Keep in mind, these are raw counts, unlike what LIWC provides which is a proportion based on the wordcount\n",
      "To get proportions, you need to divide by the variable in the wordcount index or <code>wc</code> like this...\n",
      "<code>\n",
      "proportions = [x/float(features[66]) for x in features]"
     ]
    },
    {
     "cell_type": "code",
     "collapsed": false,
     "input": [
      "import liwcExtractor as le"
     ],
     "language": "python",
     "metadata": {},
     "outputs": [],
     "prompt_number": 1
    },
    {
     "cell_type": "code",
     "collapsed": false,
     "input": [
      "liwc = le.liwcExtractor()"
     ],
     "language": "python",
     "metadata": {},
     "outputs": [],
     "prompt_number": 2
    },
    {
     "cell_type": "code",
     "collapsed": false,
     "input": [
      "doc1 = \"This is the first document that I am going to test with liwcExtractor\"\n",
      "doc2 = \"The second one might have some werrrrrrrdddd things in it. ;-)\"\n",
      "doc3 = \"The third one.....asdf;lkj;alskjdf;lkjasfd, who even knows. The third makes me want to cry!\"\n",
      "corpus = [doc1, doc2, doc3]"
     ],
     "language": "python",
     "metadata": {},
     "outputs": [],
     "prompt_number": 3
    },
    {
     "cell_type": "code",
     "collapsed": false,
     "input": [
      "features = liwc.extractFromDoc(doc3)"
     ],
     "language": "python",
     "metadata": {},
     "outputs": [],
     "prompt_number": 10
    },
    {
     "cell_type": "code",
     "collapsed": false,
     "input": [
      "features[:5]"
     ],
     "language": "python",
     "metadata": {},
     "outputs": [
      {
       "metadata": {},
       "output_type": "pyout",
       "prompt_number": 12,
       "text": [
        "[0, 1, 1, 3, 1]"
       ]
      }
     ],
     "prompt_number": 12
    },
    {
     "cell_type": "code",
     "collapsed": false,
     "input": [
      "categories = liwc.getCategoryIndeces()\n",
      "categories[:5]"
     ],
     "language": "python",
     "metadata": {},
     "outputs": [
      {
       "metadata": {},
       "output_type": "pyout",
       "prompt_number": 13,
       "text": [
        "['ingest', 'cause', 'insight', 'cogmech', 'sad']"
       ]
      }
     ],
     "prompt_number": 13
    },
    {
     "cell_type": "code",
     "collapsed": false,
     "input": [
      "proportions = [x/float(features[66]) for x in features]"
     ],
     "language": "python",
     "metadata": {},
     "outputs": [],
     "prompt_number": 15
    },
    {
     "cell_type": "code",
     "collapsed": false,
     "input": [
      "proportions[:5]"
     ],
     "language": "python",
     "metadata": {},
     "outputs": [
      {
       "metadata": {},
       "output_type": "pyout",
       "prompt_number": 16,
       "text": [
        "[0.0, 0.041666666666666664, 0.041666666666666664, 0.125, 0.041666666666666664]"
       ]
      }
     ],
     "prompt_number": 16
    },
    {
     "cell_type": "code",
     "collapsed": false,
     "input": [],
     "language": "python",
     "metadata": {},
     "outputs": []
    }
   ],
   "metadata": {}
  }
 ]
}